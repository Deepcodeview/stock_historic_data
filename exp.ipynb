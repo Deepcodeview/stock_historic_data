{
 "cells": [
  {
   "cell_type": "code",
   "execution_count": 2,
   "metadata": {},
   "outputs": [],
   "source": [
    "import yfinance as yf\n",
    "import pandas as pd\n",
    "from datetime import datetime"
   ]
  },
  {
   "cell_type": "code",
   "execution_count": 3,
   "metadata": {},
   "outputs": [],
   "source": [
    "def live_price_only(currency):\n",
    "    x = yf.Ticker(currency).history()\n",
    "    print(\"step1: {0}\".format(currency))\n",
    "\n",
    "    if x.empty:\n",
    "        print(\"step2: {0}\".format(currency))\n",
    "        print(\"Error: DataFrame is empty.\")\n",
    "        return None, None\n",
    "    x.reset_index(inplace=True)\n",
    "    x['Date'] = datetime.now() \n",
    "    print(\"step3: {0}\".format(currency))\n",
    "    x.rename(columns={'Stock Splits': 'Stock_Splits'}, inplace=True)           \n",
    "    if 'Date' not in x.columns or 'Close' not in x.columns:\n",
    "        print(\"step4: {0}\".format(currency))\n",
    "        print(\"Error: DataFrame is missing 'Date' or 'Close' columns.\")\n",
    "        return None, None\n",
    "    y = x.iloc[-1]\n",
    "    date_value = y['Date']\n",
    "    close_value = y['Close']\n",
    "    print(\"step4: {0}\".format(currency))\n",
    "    return date_value, close_value"
   ]
  },
  {
   "cell_type": "code",
   "execution_count": 4,
   "metadata": {},
   "outputs": [
    {
     "name": "stdout",
     "output_type": "stream",
     "text": [
      "step1: BTC-GBP\n",
      "step3: BTC-GBP\n",
      "step4: BTC-GBP\n",
      "2024-05-05 00:35:44.857116 50921.95703125\n"
     ]
    }
   ],
   "source": [
    "date_value, close_value =live_price_only('BTC-GBP')\n",
    "dates_live = str(date_value)\n",
    "close_live = str(close_value)\n",
    "\n",
    "print(dates_live, close_live)"
   ]
  },
  {
   "cell_type": "code",
   "execution_count": 5,
   "metadata": {},
   "outputs": [
    {
     "name": "stdout",
     "output_type": "stream",
     "text": [
      "2024-05-05 00:35:44.857116 50921.95703125\n"
     ]
    }
   ],
   "source": [
    "print(dates_live, close_live)"
   ]
  }
 ],
 "metadata": {
  "kernelspec": {
   "display_name": ".env",
   "language": "python",
   "name": "python3"
  },
  "language_info": {
   "codemirror_mode": {
    "name": "ipython",
    "version": 3
   },
   "file_extension": ".py",
   "mimetype": "text/x-python",
   "name": "python",
   "nbconvert_exporter": "python",
   "pygments_lexer": "ipython3",
   "version": "3.11.2"
  }
 },
 "nbformat": 4,
 "nbformat_minor": 2
}
